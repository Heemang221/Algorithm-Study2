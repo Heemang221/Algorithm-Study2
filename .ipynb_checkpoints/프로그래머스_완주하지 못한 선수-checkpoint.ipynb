{
 "cells": [
  {
   "cell_type": "code",
   "execution_count": null,
   "id": "03ccb22b",
   "metadata": {},
   "outputs": [],
   "source": [
    "# 1. sorting\n",
    "def solution(participant, completion):\n",
    "    \n",
    "    participant.sort()\n",
    "    completion.sort()\n",
    "    \n",
    "    for i in range(len(completion)):\n",
    "        if participant[i] != completion[i]:\n",
    "            return participant[i]\n",
    "    \n",
    "    return participant[-1]\n",
    "\n",
    "# 2. hash\n",
    "def solution(participant, completion):\n",
    "    \n",
    "    hashdict = {}\n",
    "    sum = 0\n",
    "    \n",
    "    for part in participant:\n",
    "        hashdict[hash(part)] = part\n",
    "        sum += hash(part)\n",
    "        \n",
    "    for comp in completion:\n",
    "        sum -= hash(comp)\n",
    "        \n",
    "    return hashdict[sum]\n",
    "\n",
    "# 3. counter\n",
    "import collections\n",
    "def solution(participant, completion):\n",
    "    answer = collections.Counter(participant) - collections.Counter(completion)\n",
    "    \n",
    "    return list(answer.keys())[0]\n",
    "    "
   ]
  }
 ],
 "metadata": {
  "kernelspec": {
   "display_name": "Python 3 (ipykernel)",
   "language": "python",
   "name": "python3"
  },
  "language_info": {
   "codemirror_mode": {
    "name": "ipython",
    "version": 3
   },
   "file_extension": ".py",
   "mimetype": "text/x-python",
   "name": "python",
   "nbconvert_exporter": "python",
   "pygments_lexer": "ipython3",
   "version": "3.9.13"
  }
 },
 "nbformat": 4,
 "nbformat_minor": 5
}
