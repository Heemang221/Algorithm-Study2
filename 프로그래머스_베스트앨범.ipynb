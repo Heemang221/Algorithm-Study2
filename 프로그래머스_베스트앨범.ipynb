{
 "cells": [
  {
   "cell_type": "code",
   "execution_count": null,
   "id": "4d48812c",
   "metadata": {},
   "outputs": [],
   "source": [
    "def solution(genres, plays):\n",
    "    answer = []\n",
    "    hashmap = {}\n",
    "    \n",
    "    play = sorted(plays, reverse=True)\n",
    "    \n",
    "    p_idx = [plays.index(p) for p in play]\n",
    "    \n",
    "    g_idx = []\n",
    "    for j in p_idx:\n",
    "        g_idx.append(genres[j])\n",
    "        \n",
    "    print(p_idx, g_idx)\n",
    "    \n",
    "    g_name = list(set(g_idx))\n",
    "    \n",
    "    rank = [g_idx.index(r) for r in g_name]\n",
    "    \n",
    "    for i in range(len(g_name)):\n",
    "        hashmap[g_name[i]] = rank[i]\n",
    "    \n",
    "    print(hashmap)\n",
    "    \n",
    "    for s in range(1, len(p_idx)-1):\n",
    "        if g_idx[s] != g_idx[s+1]:\n",
    "            \n",
    "        "
   ]
  }
 ],
 "metadata": {
  "kernelspec": {
   "display_name": "Python 3 (ipykernel)",
   "language": "python",
   "name": "python3"
  },
  "language_info": {
   "codemirror_mode": {
    "name": "ipython",
    "version": 3
   },
   "file_extension": ".py",
   "mimetype": "text/x-python",
   "name": "python",
   "nbconvert_exporter": "python",
   "pygments_lexer": "ipython3",
   "version": "3.9.13"
  }
 },
 "nbformat": 4,
 "nbformat_minor": 5
}
